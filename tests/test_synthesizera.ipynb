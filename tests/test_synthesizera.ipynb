{
 "cells": [
  {
   "cell_type": "code",
   "execution_count": 1,
   "id": "4a444723-5e4e-4430-b39e-b56f4772afff",
   "metadata": {},
   "outputs": [
    {
     "name": "stderr",
     "output_type": "stream",
     "text": [
      "/home/michal/anaconda3/envs/llangtalk/lib/python3.12/site-packages/tqdm/auto.py:21: TqdmWarning: IProgress not found. Please update jupyter and ipywidgets. See https://ipywidgets.readthedocs.io/en/stable/user_install.html\n",
      "  from .autonotebook import tqdm as notebook_tqdm\n"
     ]
    }
   ],
   "source": [
    "from transformers import pipeline\n",
    "from datasets import load_dataset\n",
    "import soundfile as sf\n",
    "import torch"
   ]
  },
  {
   "cell_type": "code",
   "execution_count": 21,
   "id": "364662de-5f53-4c01-86a3-7aaf0417f60a",
   "metadata": {},
   "outputs": [],
   "source": [
    "from transformers import pipeline\n",
    "from datasets import load_dataset\n",
    "import soundfile as sf"
   ]
  },
  {
   "cell_type": "code",
   "execution_count": null,
   "id": "b8083260-c133-41fa-b1e5-fd3a961da5fd",
   "metadata": {},
   "outputs": [],
   "source": [
    "synthesiser = pipeline(\"text-to-speech\", \"d190305/speecht5_finetuned_voxpopuli_pl_full_dataset\", device='cpu')"
   ]
  },
  {
   "cell_type": "code",
   "execution_count": 67,
   "id": "37557e0a-a863-4dbd-9be5-3fad7084aaca",
   "metadata": {},
   "outputs": [],
   "source": [
    "embeddings_dataset = load_dataset(\"Matthijs/cmu-arctic-xvectors\", split=\"validation\")\n",
    "speaker_embedding = torch.tensor(embeddings_dataset[1301][\"xvector\"]).unsqueeze(0)\n",
    "# You can replace this embedding with your own as well."
   ]
  },
  {
   "cell_type": "code",
   "execution_count": 68,
   "id": "ce752d2e-7f4b-421a-97f4-16ad708e0d38",
   "metadata": {},
   "outputs": [],
   "source": [
    "speech = synthesiser(\"chłopczyk, co u ciebie?\", forward_params={\"speaker_embeddings\": speaker_embedding})\n",
    "\n",
    "sf.write(\"speech.wav\", speech[\"audio\"], samplerate=speech[\"sampling_rate\"])"
   ]
  },
  {
   "cell_type": "code",
   "execution_count": null,
   "id": "944f94c8-69f2-4df3-85e7-d903746fb926",
   "metadata": {},
   "outputs": [],
   "source": []
  },
  {
   "cell_type": "code",
   "execution_count": null,
   "id": "eb161476-5d4a-4c25-9232-cb077fc87528",
   "metadata": {},
   "outputs": [],
   "source": []
  },
  {
   "cell_type": "code",
   "execution_count": null,
   "id": "7ef62bdc-0962-4aa3-8ae0-8c8b299bbca3",
   "metadata": {},
   "outputs": [],
   "source": []
  }
 ],
 "metadata": {
  "kernelspec": {
   "display_name": "Python 3 (ipykernel)",
   "language": "python",
   "name": "python3"
  },
  "language_info": {
   "codemirror_mode": {
    "name": "ipython",
    "version": 3
   },
   "file_extension": ".py",
   "mimetype": "text/x-python",
   "name": "python",
   "nbconvert_exporter": "python",
   "pygments_lexer": "ipython3",
   "version": "3.12.7"
  }
 },
 "nbformat": 4,
 "nbformat_minor": 5
}
